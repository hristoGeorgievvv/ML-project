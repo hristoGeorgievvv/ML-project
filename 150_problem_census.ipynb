{
 "cells": [
  {
   "cell_type": "markdown",
   "metadata": {},
   "source": [
    "# American Census"
   ]
  },
  {
   "cell_type": "code",
   "execution_count": 1,
   "metadata": {},
   "outputs": [],
   "source": [
    "import numpy as np\n",
    "import pandas as pd\n",
    "\n",
    "from sklearn.naive_bayes import GaussianNB\n",
    "from sklearn.dummy import DummyClassifier\n",
    "from sklearn.tree import DecisionTreeClassifier\n",
    "from sklearn.svm import SVC\n",
    "from sklearn.neighbors import KNeighborsClassifier\n",
    "from sklearn.linear_model import LogisticRegression\n",
    "\n",
    "from sklearn.model_selection import train_test_split\n",
    "from sklearn.model_selection import cross_val_predict\n",
    "from sklearn.model_selection import cross_val_score\n",
    "\n",
    "from sklearn import preprocessing\n",
    "from sklearn import metrics\n",
    "\n",
    "import matplotlib.pyplot as plt\n",
    "from sklearn.metrics import f1_score, accuracy_score, roc_auc_score\n",
    "import warnings\n",
    "\n",
    "warnings.filterwarnings('ignore')\n"
   ]
  },
  {
   "cell_type": "markdown",
   "metadata": {},
   "source": [
    "## Global config"
   ]
  },
  {
   "cell_type": "code",
   "execution_count": 2,
   "metadata": {},
   "outputs": [],
   "source": [
    "# Data config\n",
    "path_to_csv = \"adult.csv\"\n"
   ]
  },
  {
   "cell_type": "markdown",
   "metadata": {},
   "source": [
    "## Load data"
   ]
  },
  {
   "cell_type": "code",
   "execution_count": 3,
   "metadata": {},
   "outputs": [],
   "source": [
    "X_train = pd.read_csv(\"X_train.csv\")\n",
    "y_train = pd.read_csv(\"y_train.csv\")\n",
    "\n",
    "X_test = pd.read_csv(\"X_test.csv\")\n"
   ]
  },
  {
   "cell_type": "markdown",
   "metadata": {},
   "source": [
    "## Helpers"
   ]
  },
  {
   "cell_type": "code",
   "execution_count": 4,
   "metadata": {},
   "outputs": [],
   "source": [
    "def plot_models(models):\n",
    "\n",
    "    # Prediction performance\n",
    "    f1_scores = {}\n",
    "    accuracy_scores = {}\n",
    "    cross_scores = {}\n",
    "    for (name, model) in models.items():\n",
    "        prediction = model.predict(X_test)    \n",
    "\n",
    "        scores = cross_val_score(model, X_train, y_train, cv=5, scoring='f1_macro') \n",
    "        accuracy_scores[name] = accuracy_score(y_test, prediction)\n",
    "        f1_scores[name] = f1_score(y_test, prediction, average=\"weighted\")\n",
    "        cross_scores[name] = scores.mean()\n",
    "\n",
    "    label_pos = np.arange(len(models.keys()))\n",
    "    bar_width = 0.3\n",
    "    fig, ax = plt.subplots(figsize = (15,8))\n",
    "    rects1 = ax.bar(label_pos - bar_width, accuracy_scores.values(), bar_width, label='accuracy')\n",
    "    rects2 = ax.bar(label_pos, f1_scores.values(), bar_width, label='f1 score')\n",
    "    rects3 = ax.bar(label_pos + bar_width, cross_scores.values(), bar_width, label='cross validation mean')\n",
    "\n",
    "    ax.set_xticks(label_pos)\n",
    "    ax.set_xticklabels(models.keys())\n",
    "    ax.legend()\n",
    "\n",
    "    for rects in [rects1, rects2, rects3]:\n",
    "        for rect in rects:\n",
    "            height = rect.get_height()\n",
    "            ax.annotate('{:.3f}'.format(height),\n",
    "                        xy=(rect.get_x() + rect.get_width() / 2, height),\n",
    "                        xytext=(0, 3),  # 3 points vertical offset\n",
    "                        textcoords=\"offset points\",\n",
    "                        ha='center', va='bottom')\n",
    "    fig.tight_layout()\n",
    "\n",
    "    plt.show()\n",
    "    return f1_scores\n",
    "def compare_models_f1(models1, models2):\n",
    "    f1_scores1 = {}\n",
    "    f1_scores2 = {}\n",
    "    \n",
    "    for (name, model) in models1.items():\n",
    "        prediction = model.predict(X_test)\n",
    "        f1_scores1[name] = f1_score(y_test, prediction, average=\"weighted\")\n",
    "\n",
    "    for (name, model) in models2.items():\n",
    "        prediction = model.predict(X_test)\n",
    "        f1_scores2[name] = f1_score(y_test, prediction, average=\"weighted\")\n",
    "        \n",
    "    fig, ax = plt.subplots(figsize=(15,8))\n",
    "    \n",
    "    index = np.arange(4)\n",
    "    bar_width = 0.35\n",
    "\n",
    "    old = ax.bar(index,f1_scores1.values() , bar_width,\n",
    "                    label=\"Old\")\n",
    "\n",
    "    new = ax.bar(index+bar_width, f1_scores2.values(),\n",
    "                     bar_width, label=\"New\")\n",
    "    \n",
    "    ax.set_xticks(index + bar_width / 2)\n",
    "    ax.set_xticklabels(models1.keys())\n",
    "    ax.legend()\n",
    "\n",
    "\n",
    "    for rects in [old, new]:\n",
    "        for rect in rects:\n",
    "            height = rect.get_height()\n",
    "            ax.annotate('{:.3f}'.format(height),\n",
    "                        xy=(rect.get_x() + rect.get_width() / 2, height),\n",
    "                        xytext=(0, 3),  # 3 points vertical offset\n",
    "                        textcoords=\"offset points\",\n",
    "                        ha='center', va='bottom')\n",
    "    fig.tight_layout()\n",
    "\n",
    "    plt.show()"
   ]
  },
  {
   "cell_type": "markdown",
   "metadata": {},
   "source": [
    "## Data exploration"
   ]
  },
  {
   "cell_type": "markdown",
   "metadata": {},
   "source": [
    "### Question 1"
   ]
  },
  {
   "cell_type": "code",
   "execution_count": 5,
   "metadata": {},
   "outputs": [
    {
     "name": "stdout",
     "output_type": "stream",
     "text": [
      "Index(['age', 'education-num', 'hours-per-week', 'workclass', 'education',\n",
      "       'marital-status', 'occupation', 'relationship', 'race', 'sex',\n",
      "       'native-country'],\n",
      "      dtype='object')\n",
      "(16280, 11)\n",
      "<class 'pandas.core.frame.DataFrame'>\n",
      "RangeIndex: 16280 entries, 0 to 16279\n",
      "Data columns (total 11 columns):\n",
      " #   Column          Non-Null Count  Dtype  \n",
      "---  ------          --------------  -----  \n",
      " 0   age             16280 non-null  int64  \n",
      " 1   education-num   16040 non-null  float64\n",
      " 2   hours-per-week  16280 non-null  int64  \n",
      " 3   workclass       15344 non-null  object \n",
      " 4   education       16280 non-null  object \n",
      " 5   marital-status  16280 non-null  object \n",
      " 6   occupation      15099 non-null  object \n",
      " 7   relationship    16280 non-null  object \n",
      " 8   race            16280 non-null  object \n",
      " 9   sex             16280 non-null  object \n",
      " 10  native-country  15980 non-null  object \n",
      "dtypes: float64(1), int64(2), object(8)\n",
      "memory usage: 1.4+ MB\n",
      "None\n",
      "                age  education-num  hours-per-week\n",
      "count  16280.000000    16040.00000    16280.000000\n",
      "mean      38.600614       10.09414       40.392936\n",
      "std       13.695138        2.55840       12.345950\n",
      "min       17.000000        1.00000        1.000000\n",
      "25%       28.000000        9.00000       40.000000\n",
      "50%       37.000000       10.00000       40.000000\n",
      "75%       48.000000       12.00000       45.000000\n",
      "max       90.000000       16.00000       99.000000\n",
      "0    12360\n",
      "1     3920\n",
      "Name: salary, dtype: int64\n"
     ]
    }
   ],
   "source": [
    "print(X_train.columns)\n",
    "print(X_train.shape)\n",
    "print(X_train.info())\n",
    "print(X_train.describe())\n",
    "\n",
    "print(y_train['salary'].value_counts())\n"
   ]
  },
  {
   "cell_type": "markdown",
   "metadata": {},
   "source": [
    "### Question 2"
   ]
  },
  {
   "cell_type": "code",
   "execution_count": 6,
   "metadata": {},
   "outputs": [
    {
     "name": "stdout",
     "output_type": "stream",
     "text": [
      "Index(['age', 'education-num', 'hours-per-week', 'workclass', 'education',\n",
      "       'marital-status', 'occupation', 'relationship', 'native-country'],\n",
      "      dtype='object')\n",
      "(16280, 9)\n",
      "(14747, 9)\n"
     ]
    }
   ],
   "source": [
    "X_train.drop('sex',axis=1,inplace=True)\n",
    "X_train.drop('race',axis=1,inplace=True)\n",
    "X_test.drop('sex',axis=1,inplace=True)\n",
    "X_test.drop('race',axis=1,inplace=True)\n",
    "print(X_train.columns)\n",
    "print(X_train.shape)\n",
    "print(X_test.shape)"
   ]
  },
  {
   "cell_type": "markdown",
   "metadata": {},
   "source": [
    "## Data exploration"
   ]
  },
  {
   "cell_type": "markdown",
   "metadata": {},
   "source": [
    "### Question 1"
   ]
  },
  {
   "cell_type": "code",
   "execution_count": 7,
   "metadata": {},
   "outputs": [
    {
     "name": "stdout",
     "output_type": "stream",
     "text": [
      "age                  0\n",
      "education-num      240\n",
      "hours-per-week       0\n",
      "workclass          936\n",
      "education            0\n",
      "marital-status       0\n",
      "occupation        1181\n",
      "relationship         0\n",
      "native-country     300\n",
      "dtype: int64\n",
      "age               0\n",
      "education-num     0\n",
      "hours-per-week    0\n",
      "workclass         0\n",
      "education         0\n",
      "marital-status    0\n",
      "occupation        0\n",
      "relationship      0\n",
      "native-country    0\n",
      "dtype: int64\n",
      "age               0\n",
      "education-num     0\n",
      "hours-per-week    0\n",
      "workclass         0\n",
      "education         0\n",
      "marital-status    0\n",
      "occupation        0\n",
      "relationship      0\n",
      "native-country    0\n",
      "dtype: int64\n"
     ]
    }
   ],
   "source": [
    "print(X_train.isnull().sum())\n",
    "\n",
    "X_train[\"education-num\"] = X_train[\"education-num\"].fillna(10.09414)\n",
    "X_train[\"native-country\"] = X_train[\"native-country\"].fillna(\"Unkown\")\n",
    "X_train[\"occupation\"] = X_train[\"occupation\"].fillna(\"NA\")\n",
    "X_train[\"workclass\"] = X_train[\"workclass\"].fillna(\"NA\")\n",
    "\n",
    "X_test[\"education-num\"] = X_test[\"education-num\"].fillna(10.09414)\n",
    "X_test[\"native-country\"] = X_test[\"native-country\"].fillna(\"Unkown\")\n",
    "X_test[\"occupation\"] = X_test[\"occupation\"].fillna(\"NA\")\n",
    "X_test[\"workclass\"] = X_test[\"workclass\"].fillna(\"NA\")\n",
    "print(X_train.isnull().sum())\n",
    "print(X_test.isnull().sum())\n"
   ]
  },
  {
   "cell_type": "markdown",
   "metadata": {},
   "source": [
    "### Question 2"
   ]
  },
  {
   "cell_type": "code",
   "execution_count": 8,
   "metadata": {},
   "outputs": [],
   "source": [
    "from sklearn import preprocessing\n",
    "oe = preprocessing.OrdinalEncoder()\n",
    "oe.fit(X_train)\n",
    "X_train = oe.transform(X_train)\n",
    "oe.fit(X_test)\n",
    "X_test = oe.transform(X_test)"
   ]
  },
  {
   "cell_type": "markdown",
   "metadata": {},
   "source": [
    "### Question 3"
   ]
  },
  {
   "cell_type": "code",
   "execution_count": 10,
   "metadata": {},
   "outputs": [],
   "source": [
    "\n"
   ]
  },
  {
   "cell_type": "markdown",
   "metadata": {},
   "source": [
    "## Experiments"
   ]
  },
  {
   "cell_type": "markdown",
   "metadata": {},
   "source": [
    "### Question 1"
   ]
  },
  {
   "cell_type": "code",
   "execution_count": 9,
   "metadata": {},
   "outputs": [],
   "source": [
    "from sklearn.model_selection import train_test_split\n",
    "\n",
    "X_train, X_test,y_train, y_test = train_test_split(X_train, y_train, test_size=0.3, random_state=42, shuffle=True, stratify=y_train)\n"
   ]
  },
  {
   "cell_type": "markdown",
   "metadata": {},
   "source": [
    "### Question 2"
   ]
  },
  {
   "cell_type": "code",
   "execution_count": 10,
   "metadata": {},
   "outputs": [
    {
     "data": {
      "image/png": "[encoded data removed]",
      "text/plain": [
       "<Figure size 1080x576 with 1 Axes>"
      ]
     },
     "metadata": {
      "needs_background": "light"
     },
     "output_type": "display_data"
    },
    {
     "name": "stdout",
     "output_type": "stream",
     "text": [
      "\n"
     ]
    }
   ],
   "source": [
    "from sklearn.metrics import f1_score, accuracy_score\n",
    "\n",
    "random_state = 42\n",
    "\n",
    "base_models = {\n",
    "    \"GaussianNB\": GaussianNB(),\n",
    "    \"DecisionTreeClassifier\": DecisionTreeClassifier(max_depth=None, min_samples_leaf=2, random_state=random_state),\n",
    "    \"KNeighborsClassifier\": KNeighborsClassifier(n_neighbors=3, weights=\"distance\"),\n",
    "    \"SVC\": SVC(C=10, random_state=42, kernel = \"poly\",),\n",
    "    \"LogisticRegression\": LogisticRegression(C= 10, random_state=random_state,penalty = \"none\")\n",
    "}\n",
    "\n",
    "for (name, model) in base_models.items():\n",
    "    model.fit(X_train, y_train)\n",
    "        \n",
    "default_f1_scores = plot_models(base_models)\n",
    "print()\n"
   ]
  },
  {
   "cell_type": "markdown",
   "metadata": {},
   "source": [
    "### Question 3"
   ]
  },
  {
   "cell_type": "code",
   "execution_count": 287,
   "metadata": {},
   "outputs": [
    {
     "name": "stdout",
     "output_type": "stream",
     "text": [
      "Best parameters for SVC: \n",
      "{'C': 90, 'kernel': 'poly'}\n",
      "0.8135992739687407\n",
      "\n",
      "Best parameters for DecisionTreeClassifier:\n",
      "{'max_depth': 9, 'min_samples_leaf': 23}\n",
      "0.8285375404580702\n",
      "\n",
      "Best parameters for Logistic regression:\n",
      "{'C': 80, 'penalty': 'l2'}\n",
      "0.7971154827899338\n",
      "\n",
      "Best parameters for KNeighborsClassifier:\n",
      "{'n_neighbors': 21, 'weights': 'uniform'}\n",
      "0.7926999571823552\n"
     ]
    }
   ],
   "source": [
    "from sklearn.model_selection import GridSearchCV\n",
    "\n",
    "SVC_params = { \n",
    "    'C': [70, 80, 90],\n",
    "    'kernel': ['rbf', 'poly', 'sigmoid']\n",
    "}\n",
    "DecisionTreeClassifier_params = {\n",
    "    'max_depth': range(6, 12),\n",
    "    'min_samples_leaf': range(10, 25)\n",
    "}\n",
    "\n",
    "LogisticRegression_params = { \n",
    "    'C': [1,2,3,5,7,50,60,80,100,120,140],\n",
    "    'penalty': ['none', 'l2'],\n",
    "}\n",
    "\n",
    "KNeighboursClassifier_params = {\n",
    "    'n_neighbors': [21,22,24,24,25],\n",
    "    'weights': ['uniform', 'distance']\n",
    "}\n",
    "\n",
    "grid_search_svc = GridSearchCV(estimator=SVC(), param_grid=SVC_params)\n",
    "grid_result = grid_search_svc.fit(X_train_split, y_train_split)\n",
    "best_params_svc = grid_result.best_params_\n",
    "best_score_svc = grid_result.best_score_\n",
    "print(\"Best parameters for SVC: \")\n",
    "print(best_params_svc)\n",
    "print(best_score_svc)\n",
    "print()\n",
    "\n",
    "grid_search_decision_tree = GridSearchCV(estimator=DecisionTreeClassifier(), param_grid=DecisionTreeClassifier_params)\n",
    "grid_result = grid_search_decision_tree.fit(X_train_split, y_train_split)\n",
    "best_params_dtc = grid_result.best_params_\n",
    "best_score_dtc = grid_result.best_score_\n",
    "print(\"Best parameters for DecisionTreeClassifier:\")\n",
    "print(best_params_dtc)\n",
    "print(best_score_dtc)\n",
    "print()\n",
    "\n",
    "grid_search_logistic_regression = GridSearchCV(estimator=LogisticRegression(), \n",
    "                                               param_grid=LogisticRegression_params)\n",
    "grid_result = grid_search_logistic_regression.fit(X_train_split, y_train_split)\n",
    "best_params_lr = grid_result.best_params_\n",
    "best_score_lr = grid_result.best_score_\n",
    "print(\"Best parameters for Logistic regression:\")\n",
    "print(best_params_lr)\n",
    "print(best_score_lr)\n",
    "print()\n",
    "\n",
    "grid_search_k_neighbour = GridSearchCV(estimator=KNeighborsClassifier(), param_grid=KNeighboursClassifier_params)\n",
    "grid_result = grid_search_k_neighbour.fit(X_train_split, y_train_split)\n",
    "best_params_kn = grid_result.best_params_\n",
    "best_score_kn = grid_result.best_score_\n",
    "print(\"Best parameters for KNeighborsClassifier:\")\n",
    "print(best_params_kn)\n",
    "print(best_score_kn)"
   ]
  },
  {
   "cell_type": "markdown",
   "metadata": {},
   "source": [
    "### Question 4"
   ]
  },
  {
   "cell_type": "code",
   "execution_count": 11,
   "metadata": {},
   "outputs": [
    {
     "data": {
      "image/png": "[encoded data removed]",
      "text/plain": [
       "<Figure size 1080x576 with 1 Axes>"
      ]
     },
     "metadata": {
      "needs_background": "light"
     },
     "output_type": "display_data"
    }
   ],
   "source": [
    "new_models = {\n",
    "    \"DecisionTreeClassifier\" : DecisionTreeClassifier(max_depth=9, min_samples_leaf=23, random_state=42),\n",
    "    \"KNeighborsClassifier\": KNeighborsClassifier(n_neighbors=24, weights=\"uniform\"),\n",
    "    \"SVC\" : SVC(C=90, kernel=\"poly\", random_state=42),\n",
    "    \"LogisticRegression\": LogisticRegression(C=80, penalty = \"l2\", random_state=42)\n",
    "}\n",
    "for (name, model) in new_models.items():\n",
    "    model.fit(X_train, y_train)\n",
    "\n",
    "compare_models_f1({\"DecisionTreeClassifier\":base_models[\"DecisionTreeClassifier\"],\"KNeighborsClassifier\":base_models[\"KNeighborsClassifier\"],\"LogisticRegression\":base_models[\"LogisticRegression\"],\"SVC\":base_models[\"SVC\"]}, new_models)"
   ]
  },
  {
   "cell_type": "markdown",
   "metadata": {},
   "source": [
    "### Question 5"
   ]
  },
  {
   "cell_type": "code",
   "execution_count": 12,
   "metadata": {},
   "outputs": [],
   "source": [
    "classifier = DecisionTreeClassifier(max_depth=9, min_samples_leaf=23, random_state=42)\n",
    "classifier.fit(X_train, y_train)\n",
    "prediction = classifier.predict(X_test)\n",
    "pd.DataFrame(prediction).to_csv(\"GROUP_classes_problem_census.txt\", index=False, header=False)"
   ]
  }
 ],
 "metadata": {
  "kernelspec": {
   "display_name": "Python 3",
   "language": "python",
   "name": "python3"
  },
  "language_info": {
   "codemirror_mode": {
    "name": "ipython",
    "version": 3
   },
   "file_extension": ".py",
   "mimetype": "text/x-python",
   "name": "python",
   "nbconvert_exporter": "python",
   "pygments_lexer": "ipython3",
   "version": "3.8.3"
  }
 },
 "nbformat": 4,
 "nbformat_minor": 4
}
